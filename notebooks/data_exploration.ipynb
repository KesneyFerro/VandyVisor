{
 "cells": [
  {
   "cell_type": "markdown",
   "id": "f8e89e0b",
   "metadata": {},
   "source": [
    "# Data Exploration and Testing\n",
    "\n",
    "This notebook is for exploring new data, testing scripts, and prototyping analysis.\n",
    "\n",
    "## Purpose\n",
    "- Quick data exploration\n",
    "- Script testing and debugging\n",
    "- Prototype new analysis approaches\n",
    "- Data quality checks\n",
    "\n",
    "## Usage\n",
    "- Use this notebook for temporary analysis\n",
    "- Test new code before moving to dedicated notebooks\n",
    "- Explore data structure and quality\n",
    "- Debug data processing issues"
   ]
  },
  {
   "cell_type": "markdown",
   "id": "99239266",
   "metadata": {},
   "source": [
    "## Setup"
   ]
  },
  {
   "cell_type": "code",
   "execution_count": null,
   "id": "ad829c25",
   "metadata": {},
   "outputs": [],
   "source": [
    "import pandas as pd\n",
    "import numpy as np\n",
    "import matplotlib.pyplot as plt\n",
    "import seaborn as sns\n",
    "import sys\n",
    "import os\n",
    "\n",
    "# Add paths for custom modules\n",
    "sys.path.append('../scripts')\n",
    "sys.path.append('../config')\n",
    "\n",
    "print(\"Environment setup complete\")"
   ]
  },
  {
   "cell_type": "markdown",
   "id": "db806959",
   "metadata": {},
   "source": [
    "## Quick Data Loading"
   ]
  },
  {
   "cell_type": "code",
   "execution_count": null,
   "id": "d7936344",
   "metadata": {},
   "outputs": [],
   "source": [
    "# Quick function to load any CSV from data folder\n",
    "def load_data(filename):\n",
    "    \"\"\"Load data from processed or raw folder\"\"\"\n",
    "    paths_to_try = [\n",
    "        f'../data/processed/{filename}',\n",
    "        f'../data/raw/{filename}',\n",
    "        f'../data/{filename}'\n",
    "    ]\n",
    "    \n",
    "    for path in paths_to_try:\n",
    "        try:\n",
    "            df = pd.read_csv(path)\n",
    "            print(f\"Loaded {filename} from {path}\")\n",
    "            print(f\"Shape: {df.shape}\")\n",
    "            return df\n",
    "        except FileNotFoundError:\n",
    "            continue\n",
    "    \n",
    "    print(f\"Could not find {filename} in any data folder\")\n",
    "    return None"
   ]
  },
  {
   "cell_type": "markdown",
   "id": "31a9e47a",
   "metadata": {},
   "source": [
    "## Data Exploration Space\n",
    "\n",
    "Use the cells below for quick data exploration and testing."
   ]
  },
  {
   "cell_type": "code",
   "execution_count": null,
   "id": "ceb87379",
   "metadata": {},
   "outputs": [],
   "source": [
    "# Example: Load and explore a dataset\n",
    "# df = load_data('your_file.csv')\n",
    "# df.head()"
   ]
  },
  {
   "cell_type": "code",
   "execution_count": null,
   "id": "8c501519",
   "metadata": {},
   "outputs": [],
   "source": [
    "# Quick data quality check function\n",
    "def data_quality_check(df):\n",
    "    \"\"\"Quick overview of data quality\"\"\"\n",
    "    if df is None:\n",
    "        return\n",
    "    \n",
    "    print(\"Data Quality Report:\")\n",
    "    print(f\"Shape: {df.shape}\")\n",
    "    print(f\"\\nMissing values:\")\n",
    "    missing = df.isnull().sum()\n",
    "    print(missing[missing > 0])\n",
    "    \n",
    "    print(f\"\\nData types:\")\n",
    "    print(df.dtypes.value_counts())\n",
    "    \n",
    "    print(f\"\\nDuplicate rows: {df.duplicated().sum()}\")"
   ]
  },
  {
   "cell_type": "code",
   "execution_count": null,
   "id": "b4737b8f",
   "metadata": {},
   "outputs": [],
   "source": [
    "# Testing space - add your experimental code here"
   ]
  },
  {
   "cell_type": "markdown",
   "id": "de3bb0ce",
   "metadata": {},
   "source": [
    "## Script Testing\n",
    "\n",
    "Use this section to test functions from your scripts."
   ]
  },
  {
   "cell_type": "code",
   "execution_count": null,
   "id": "352625be",
   "metadata": {},
   "outputs": [],
   "source": [
    "# Test mapping imports\n",
    "try:\n",
    "    from mappings import SCHOOL_MAP, CAREER_MAP, COMPONENT_MAP\n",
    "    print(\"Successfully imported mappings\")\n",
    "    print(f\"Schools: {len(SCHOOL_MAP)} entries\")\n",
    "    print(f\"Careers: {len(CAREER_MAP)} entries\")\n",
    "    print(f\"Components: {len(COMPONENT_MAP)} entries\")\n",
    "except ImportError as e:\n",
    "    print(f\"Could not import mappings: {e}\")"
   ]
  },
  {
   "cell_type": "code",
   "execution_count": null,
   "id": "a7202e9e",
   "metadata": {},
   "outputs": [],
   "source": [
    "# Test script functions\n",
    "# Import and test your custom functions here"
   ]
  }
 ],
 "metadata": {
  "language_info": {
   "name": "python"
  }
 },
 "nbformat": 4,
 "nbformat_minor": 5
}
