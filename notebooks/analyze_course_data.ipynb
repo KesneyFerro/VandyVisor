{
 "cells": [
  {
   "cell_type": "markdown",
   "id": "84307444",
   "metadata": {},
   "source": [
    "# Course Data Analysis\n",
    "\n",
    "This notebook analyzes course catalog and class section data from Vanderbilt University.\n",
    "\n",
    "## Purpose\n",
    "- Load and examine course catalog data\n",
    "- Analyze course distributions by subject and school\n",
    "- Study course attributes and requirements\n",
    "- Generate insights about course offerings\n",
    "\n",
    "## Data Sources\n",
    "- Course catalog CSV from data/processed/\n",
    "- Class section data CSV from data/processed/\n",
    "\n",
    "## Outputs\n",
    "- Course distribution statistics\n",
    "- Subject analysis\n",
    "- Prerequisite and corequisite patterns\n",
    "- Visualizations of course data"
   ]
  },
  {
   "cell_type": "markdown",
   "id": "eb9ad768",
   "metadata": {},
   "source": [
    "## Setup and Data Loading"
   ]
  },
  {
   "cell_type": "code",
   "execution_count": null,
   "id": "b8ad04b5",
   "metadata": {},
   "outputs": [],
   "source": [
    "import pandas as pd\n",
    "import numpy as np\n",
    "import matplotlib.pyplot as plt\n",
    "import seaborn as sns\n",
    "from collections import Counter\n",
    "\n",
    "# Set display options\n",
    "pd.set_option('display.max_columns', None)\n",
    "pd.set_option('display.width', None)\n",
    "\n",
    "# Set plotting style\n",
    "plt.style.use('default')\n",
    "sns.set_palette('husl')"
   ]
  },
  {
   "cell_type": "code",
   "execution_count": null,
   "id": "80cb331f",
   "metadata": {},
   "outputs": [],
   "source": [
    "# Load course data\n",
    "courses_df = None\n",
    "classes_df = None\n",
    "\n",
    "try:\n",
    "    courses_df = pd.read_csv('../data/processed/vanderbilt_courses.csv')\n",
    "    print(f\"Loaded {len(courses_df)} course records\")\n",
    "except FileNotFoundError:\n",
    "    print(\"Course catalog file not found.\")\n",
    "\n",
    "try:\n",
    "    classes_df = pd.read_csv('../data/processed/vanderbilt_class_data.csv')\n",
    "    print(f\"Loaded {len(classes_df)} class section records\")\n",
    "except FileNotFoundError:\n",
    "    print(\"Class section file not found.\")"
   ]
  },
  {
   "cell_type": "markdown",
   "id": "e17d5d2a",
   "metadata": {},
   "source": [
    "## Course Catalog Analysis"
   ]
  },
  {
   "cell_type": "code",
   "execution_count": null,
   "id": "c86847f0",
   "metadata": {},
   "outputs": [],
   "source": [
    "if courses_df is not None:\n",
    "    print(\"Course Catalog Overview:\")\n",
    "    print(f\"Total courses: {len(courses_df)}\")\n",
    "    print(f\"Unique subjects: {courses_df['subject'].nunique()}\")\n",
    "    print(f\"Unique schools: {courses_df['school_code'].nunique()}\")\n",
    "    print(\"\\nFirst few records:\")\n",
    "    display(courses_df.head())"
   ]
  },
  {
   "cell_type": "code",
   "execution_count": null,
   "id": "a7bc23e9",
   "metadata": {},
   "outputs": [],
   "source": [
    "if courses_df is not None:\n",
    "    # Subject distribution\n",
    "    subject_counts = courses_df['subject'].value_counts().head(20)\n",
    "    \n",
    "    plt.figure(figsize=(12, 8))\n",
    "    subject_counts.plot(kind='bar')\n",
    "    plt.title('Top 20 Subjects by Number of Courses')\n",
    "    plt.xlabel('Subject Code')\n",
    "    plt.ylabel('Number of Courses')\n",
    "    plt.xticks(rotation=45)\n",
    "    plt.tight_layout()\n",
    "    plt.show()"
   ]
  },
  {
   "cell_type": "code",
   "execution_count": null,
   "id": "4dded61a",
   "metadata": {},
   "outputs": [],
   "source": [
    "if courses_df is not None:\n",
    "    # School distribution\n",
    "    school_counts = courses_df['school_code'].value_counts()\n",
    "    \n",
    "    plt.figure(figsize=(10, 6))\n",
    "    school_counts.plot(kind='pie', autopct='%1.1f%%')\n",
    "    plt.title('Course Distribution by School')\n",
    "    plt.ylabel('')\n",
    "    plt.show()"
   ]
  },
  {
   "cell_type": "markdown",
   "id": "aca75c9b",
   "metadata": {},
   "source": [
    "## Class Section Analysis"
   ]
  },
  {
   "cell_type": "code",
   "execution_count": null,
   "id": "3c4721b1",
   "metadata": {},
   "outputs": [],
   "source": [
    "if classes_df is not None:\n",
    "    print(\"Class Sections Overview:\")\n",
    "    print(f\"Total class sections: {len(classes_df)}\")\n",
    "    print(f\"Unique subjects: {classes_df['subject'].nunique()}\")\n",
    "    print(f\"Unique components: {classes_df['component_code'].nunique()}\")\n",
    "    print(\"\\nComponent distribution:\")\n",
    "    print(classes_df['component_code'].value_counts())"
   ]
  },
  {
   "cell_type": "code",
   "execution_count": null,
   "id": "90177d55",
   "metadata": {},
   "outputs": [],
   "source": [
    "if classes_df is not None:\n",
    "    # Units earned distribution\n",
    "    plt.figure(figsize=(10, 6))\n",
    "    classes_df['units_earned'].hist(bins=20, edgecolor='black')\n",
    "    plt.title('Distribution of Course Units')\n",
    "    plt.xlabel('Units Earned')\n",
    "    plt.ylabel('Number of Classes')\n",
    "    plt.grid(True, alpha=0.3)\n",
    "    plt.show()"
   ]
  },
  {
   "cell_type": "markdown",
   "id": "43363748",
   "metadata": {},
   "source": [
    "## Requirements Analysis"
   ]
  },
  {
   "cell_type": "code",
   "execution_count": null,
   "id": "af1185a7",
   "metadata": {},
   "outputs": [],
   "source": [
    "if courses_df is not None:\n",
    "    # Analyze prerequisites\n",
    "    prereq_courses = courses_df[courses_df['prerequisites'].notna()]\n",
    "    print(f\"Courses with prerequisites: {len(prereq_courses)} ({len(prereq_courses)/len(courses_df)*100:.1f}%)\")\n",
    "    \n",
    "    # Analyze corequisites\n",
    "    coreq_courses = courses_df[courses_df['corequisites'].notna()]\n",
    "    print(f\"Courses with corequisites: {len(coreq_courses)} ({len(coreq_courses)/len(courses_df)*100:.1f}%)\")"
   ]
  },
  {
   "cell_type": "code",
   "execution_count": null,
   "id": "37b81f23",
   "metadata": {},
   "outputs": [],
   "source": [
    "if courses_df is not None:\n",
    "    # Term offering analysis\n",
    "    term_analysis = courses_df['term_offered'].value_counts()\n",
    "    print(\"Course offerings by term:\")\n",
    "    print(term_analysis)\n",
    "    \n",
    "    plt.figure(figsize=(8, 6))\n",
    "    term_analysis.plot(kind='bar')\n",
    "    plt.title('Course Offerings by Term')\n",
    "    plt.xlabel('Terms Offered')\n",
    "    plt.ylabel('Number of Courses')\n",
    "    plt.xticks(rotation=45)\n",
    "    plt.tight_layout()\n",
    "    plt.show()"
   ]
  }
 ],
 "metadata": {
  "language_info": {
   "name": "python"
  }
 },
 "nbformat": 4,
 "nbformat_minor": 5
}
