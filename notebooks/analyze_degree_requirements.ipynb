{
 "cells": [
  {
   "cell_type": "markdown",
   "id": "ceee1e82",
   "metadata": {},
   "source": [
    "# Degree Requirements Analysis\n",
    "\n",
    "This notebook analyzes degree requirement data from Vanderbilt University.\n",
    "\n",
    "## Purpose\n",
    "- Load and examine degree requirement data\n",
    "- Analyze requirement group distributions\n",
    "- Compare different degree programs\n",
    "- Generate visualizations for requirement completion status\n",
    "\n",
    "## Data Sources\n",
    "- Degree requirements CSV files from data/processed/\n",
    "- Student transcript data\n",
    "\n",
    "## Outputs\n",
    "- Summary statistics of requirements\n",
    "- Completion status reports\n",
    "- Visualizations of degree progress"
   ]
  },
  {
   "cell_type": "markdown",
   "id": "4c5d3470",
   "metadata": {},
   "source": [
    "## Setup and Data Loading"
   ]
  },
  {
   "cell_type": "code",
   "execution_count": null,
   "id": "6fe9b3c5",
   "metadata": {},
   "outputs": [],
   "source": [
    "import pandas as pd\n",
    "import numpy as np\n",
    "import matplotlib.pyplot as plt\n",
    "import seaborn as sns\n",
    "\n",
    "# Set display options\n",
    "pd.set_option('display.max_columns', None)\n",
    "pd.set_option('display.width', None)"
   ]
  },
  {
   "cell_type": "code",
   "execution_count": null,
   "id": "4c7a6f55",
   "metadata": {},
   "outputs": [],
   "source": [
    "# Load degree requirements data\n",
    "try:\n",
    "    df = pd.read_csv('../data/processed/degree_requirements.csv')\n",
    "    print(f\"Loaded {len(df)} requirement records\")\n",
    "    print(f\"Columns: {list(df.columns)}\")\n",
    "except FileNotFoundError:\n",
    "    print(\"Degree requirements file not found. Run data processing scripts first.\")\n",
    "    df = None"
   ]
  },
  {
   "cell_type": "markdown",
   "id": "0ab83494",
   "metadata": {},
   "source": [
    "## Data Overview"
   ]
  },
  {
   "cell_type": "code",
   "execution_count": null,
   "id": "664aa022",
   "metadata": {},
   "outputs": [],
   "source": [
    "if df is not None:\n",
    "    # Basic data information\n",
    "    print(\"Dataset Shape:\", df.shape)\n",
    "    print(\"\\nData Types:\")\n",
    "    print(df.dtypes)\n",
    "    print(\"\\nFirst few rows:\")\n",
    "    df.head()"
   ]
  },
  {
   "cell_type": "markdown",
   "id": "ec0e64e4",
   "metadata": {},
   "source": [
    "## Requirement Group Analysis"
   ]
  },
  {
   "cell_type": "code",
   "execution_count": null,
   "id": "29e4a49e",
   "metadata": {},
   "outputs": [],
   "source": [
    "if df is not None:\n",
    "    # Analyze requirement groups\n",
    "    group_counts = df['group_name'].value_counts()\n",
    "    print(\"Requirement Groups:\")\n",
    "    print(group_counts)"
   ]
  },
  {
   "cell_type": "code",
   "execution_count": null,
   "id": "8c7ce12c",
   "metadata": {},
   "outputs": [],
   "source": [
    "if df is not None:\n",
    "    # Visualize requirement distribution\n",
    "    plt.figure(figsize=(12, 6))\n",
    "    group_counts.plot(kind='bar')\n",
    "    plt.title('Distribution of Requirement Groups')\n",
    "    plt.xlabel('Requirement Group')\n",
    "    plt.ylabel('Number of Requirements')\n",
    "    plt.xticks(rotation=45)\n",
    "    plt.tight_layout()\n",
    "    plt.show()"
   ]
  },
  {
   "cell_type": "markdown",
   "id": "fed91758",
   "metadata": {},
   "source": [
    "## Units Analysis"
   ]
  },
  {
   "cell_type": "code",
   "execution_count": null,
   "id": "f467e6ea",
   "metadata": {},
   "outputs": [],
   "source": [
    "if df is not None:\n",
    "    # Analyze units required vs completed\n",
    "    units_summary = df.groupby('group_name')[['units_required', 'units_used', 'units_needed']].sum()\n",
    "    print(\"Units Summary by Group:\")\n",
    "    print(units_summary)"
   ]
  }
 ],
 "metadata": {
  "language_info": {
   "name": "python"
  }
 },
 "nbformat": 4,
 "nbformat_minor": 5
}
